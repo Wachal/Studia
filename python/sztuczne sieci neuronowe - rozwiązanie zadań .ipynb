{
 "cells": [
  {
   "cell_type": "code",
   "execution_count": 15,
   "metadata": {},
   "outputs": [
    {
     "data": {
      "text/plain": [
       "DecisionTreeClassifier()"
      ]
     },
     "execution_count": 15,
     "metadata": {},
     "output_type": "execute_result"
    }
   ],
   "source": [
    "from sklearn import tree\n",
    "features = [[110, 1, 1], [120, 1, 0], [170, 1, 1], [160, 0, 1], [50, 1, 0], [160, 0, 1], [15, 0, 1]\n",
    "           , [150, 1, 1], [140, 0, 0], [180, 1, 1], [120, 1, 1], [140, 1, 0], [150, 1, 0], [160, 1, 1]\n",
    "           , [120, 1, 1], [140, 1, 1], [180, 1, 0], [130, 1, 1], [140, 1, 1], [150, 0, 0], [100, 1, 1]\n",
    "           , [110, 1, 1], [120, 1, 1], [180, 0, 1], [120, 0, 0], [115, 1, 1], [100, 1, 0], [120, 1, 1]]\n",
    "labels = [1, 0, 0, 0, 1, 0, 0,1,0,0,1,0,0,1,1, 0,0,1,0,0,1,1,1,0,0,1,0,1]\n",
    "clf = tree.DecisionTreeClassifier()\n",
    "clf.fit(features, labels)\n"
   ]
  },
  {
   "cell_type": "code",
   "execution_count": 16,
   "metadata": {},
   "outputs": [
    {
     "data": {
      "text/plain": [
       "array([0, 1, 0, 0, 1, 0, 0, 1, 1, 1, 0, 0, 1, 0, 1])"
      ]
     },
     "execution_count": 16,
     "metadata": {},
     "output_type": "execute_result"
    }
   ],
   "source": [
    "clf.predict([[10, 0, 1], [130, 1, 1], [150, 0, 1],[160, 0, 1], [50, 1, 0], [160, 0, 1], [15, 0, 1], [110, 1, 1], [110, 1, 1], [120, 1, 1], [180, 0, 1], [120, 0, 0], [115, 1, 1], [100, 1, 0], [120, 1, 1] ])"
   ]
  },
  {
   "cell_type": "code",
   "execution_count": 18,
   "metadata": {},
   "outputs": [
    {
     "name": "stdout",
     "output_type": "stream",
     "text": [
      "              precision    recall  f1-score   support\n",
      "\n",
      "           0       1.00      0.89      0.94         9\n",
      "           1       0.86      1.00      0.92         6\n",
      "\n",
      "    accuracy                           0.93        15\n",
      "   macro avg       0.93      0.94      0.93        15\n",
      "weighted avg       0.94      0.93      0.93        15\n",
      "\n"
     ]
    }
   ],
   "source": [
    "from sklearn.metrics import classification_report\n",
    "y_test = [0,1,0,0,0,0,0,1,1,1,0,0,1,0,1] #co powinno zwrocic\n",
    "y_pred = [0, 1, 0, 0, 1, 0, 0, 1, 1, 1, 0, 0, 1, 0, 1] #co zwrocilo\n",
    "\n",
    "print(classification_report(y_test,y_pred))"
   ]
  },
  {
   "cell_type": "code",
   "execution_count": null,
   "metadata": {},
   "outputs": [],
   "source": []
  }
 ],
 "metadata": {
  "kernelspec": {
   "display_name": "Python 3",
   "language": "python",
   "name": "python3"
  },
  "language_info": {
   "codemirror_mode": {
    "name": "ipython",
    "version": 3
   },
   "file_extension": ".py",
   "mimetype": "text/x-python",
   "name": "python",
   "nbconvert_exporter": "python",
   "pygments_lexer": "ipython3",
   "version": "3.8.5"
  }
 },
 "nbformat": 4,
 "nbformat_minor": 4
}
